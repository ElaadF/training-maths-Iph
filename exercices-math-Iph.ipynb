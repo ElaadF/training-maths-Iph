{
 "cells": [
  {
   "cell_type": "markdown",
   "id": "f1c90044-36cf-42bd-9c88-0017bb604b40",
   "metadata": {},
   "source": [
    "# Dévloppement et simplification de polynôme du second degré"
   ]
  },
  {
   "cell_type": "markdown",
   "id": "f0ac9f45-986c-4f14-a17e-37498b82c4eb",
   "metadata": {},
   "source": [
    "Un polynôme du second degré est de la forme :"
   ]
  },
  {
   "cell_type": "markdown",
   "id": "5a5afe30-d8d7-4a1b-afcb-daa2dcc34237",
   "metadata": {},
   "source": [
    "\\begin{align}\n",
    "f(x) = ax^2 + bx + c \\\\\n",
    "\\end{align}"
   ]
  },
  {
   "cell_type": "markdown",
   "id": "a3a97adf-dab4-42fe-bb5b-4cacc77d3681",
   "metadata": {},
   "source": [
    "Par convention, on réordonne toujours l'équation pour faire apparaître les x^2 avant, puis les x et enfin les tous nus.\n",
    "En réordonnant une équation (dans notre cas la forme de l'équation s'appelle un polynôme du second degré) il est important de garder les signes à gauche et de garder les priorités des opérations lorsque l'on déplace les objets \\\n",
    "Par exemple :"
   ]
  },
  {
   "cell_type": "markdown",
   "id": "d618801b-71a9-406c-8b17-ea313146e0c4",
   "metadata": {},
   "source": [
    "\\begin{align*}\n",
    "f(x) &= (3 + 4x) - 5x^2 \\\\\n",
    "&= -5x^2 + (3 + 4x) && \\text{ici, on a : + (3 + 4x) car dans l'équation de base, il n'y a aucun signe à gauche donc, cela est équivalent à un +}\\\\\n",
    "&= -5x^2 + 3 + 4x && \\text{on peut enlever les parenthèses en conservant les mêmes signes puisqu'on ne multiplie pas ce groupe par un nombre négatif}\\\\\n",
    "\\end{align*}"
   ]
  },
  {
   "cell_type": "markdown",
   "id": "5ad86039-725e-4290-89d5-246349a7a96a",
   "metadata": {},
   "source": [
    "Rappel : \n",
    "- les opérations se font dans un ordre de priorité : \n",
    "1. Les parenthèses\n",
    "2. les multiplications/divisions : 3x = 3 * x\n",
    "3. les aditions/soustractions : 2 - 3 = 2 + (-3)\n",
    "- moins par moins ça fait plus : -2 * -1 = 2"
   ]
  },
  {
   "cell_type": "markdown",
   "id": "fc69fad9-3f04-4042-82e5-c3ee0eb40c33",
   "metadata": {},
   "source": [
    "## Exercices"
   ]
  },
  {
   "cell_type": "markdown",
   "id": "8f4c1f18-9e5a-46f8-9cf7-f165dc4bb55d",
   "metadata": {},
   "source": [
    "### Exercice 1 - 28/08/2024\n",
    "\\begin{align*}\n",
    "A(x) &= -3 - 2x^2 + 2x - 1x^2 \\times 3 -4 \\\\\n",
    "B(x) &= 2x - 8 + 2x^2 - (3x + 1) \\\\\n",
    "\\end{align*}"
   ]
  },
  {
   "cell_type": "markdown",
   "id": "76a273a9-10ac-4555-8def-f8c38946dedf",
   "metadata": {},
   "source": [
    "<details>\n",
    "<summary>Correction exercice 1 A(x)</summary>\n",
    "\\begin{align*}    \n",
    "A(x) &= -3 - 2x^2 + 2x - 1x^2 \\times 3 -4 \\\\\n",
    "&= -3 - 2x^2 + 2x - 3x^2 - 4  && \\text{je regarde les opérations prioritaires, ici, c'est une multiplication, donc je la traite en premier comme si elle était entre parenthèses :  $1x^2 \\times 3 = 1 \\times x^2 \\times 3 = 1 \\times 3 \\times x^2  = 3 \\times x^2$} \\\\\n",
    "&= -2x^2 - 3x^2 + 2x - 4 - 3 && \\text{il ne reste plus d'opération prioritaire, je peux commencer à simplifier l'équation en regroupant les objets de mêmes natures $x^2$ ensemble, $x$ et les tous nus tout en conservant les signes à gauche des objets} \\\\\n",
    "&= -5x^2 + 2x - 7 && \\text{je ne peux plus simplifier mon equation, elle est sous la forme $ax^2 + bx + c$ j'ai donc terminé} \\\\\n",
    "\\end{align*}\n",
    "</details>\n"
   ]
  },
  {
   "cell_type": "markdown",
   "id": "8882c4fc-1362-4d2c-bfa6-559c7778e3a3",
   "metadata": {},
   "source": [
    "<details>\n",
    "<summary>Correction exercice 1 B(x)</summary>\n",
    "\\begin{align*} \n",
    "B(x) &= 2x - 8 + 2x^2 - (3x + 1) \\\\\n",
    "&= 2x - 8 + 2x^2 - 1 \\times (3x + 1) && \\text{je vois qu'il y a une opération prioritaire entre parenthèse, je ne peux pas la simplifier, mais je peux enlever les parenthèses afin de pouvoir simplifier avec le reste de l'opération, je regarde le signe du chiffre devant la parenthèse, c'est un $-1$ donc pour ouvrir la parenthèse, j'inverse les signes dedans (en gros, je multiplie par $-1$ : $3x$ et $1$}\\\\\n",
    "&= 2x - 8 + 2x^2 - 3x -1 \\\\\n",
    "&= 2x^2 + 2x - 3x - 8 - 1 && \\text{je peux simplifier en regroupant les objets de même type en conservant les signes à gauche des objets} \\\\\n",
    "&= 2x^2 - x - 9 \\\\\n",
    "\\end{align*}\n",
    "</details>\n"
   ]
  },
  {
   "cell_type": "markdown",
   "id": "0936c506-f39b-49b0-b0b9-5fd0a7e93d01",
   "metadata": {},
   "source": [
    "### Exercice 2 - 29/08/2024\n",
    "\\begin{align*}\n",
    "A(x) &= -x + (2 - 3x^2 +1) -3(x + 1) \\\\\n",
    "B(x) &= -2x^2 - (2x + 3 + 8x^2) + 1 \\\\\n",
    "\\end{align*}\n",
    "\n",
    "Bonus : \\\n",
    "\\begin{align*}\n",
    "f(x) = -3 - 2[ (2x + 1) - (x^2 - 1) ]\n",
    "\\end{align*}"
   ]
  },
  {
   "cell_type": "markdown",
   "id": "a6971c65-f48e-4997-a66a-36fb038f0848",
   "metadata": {},
   "source": [
    "<details>\n",
    "<summary>Correction exercice 2 A(x)</summary>\n",
    "\\begin{align*}    \n",
    "A(x) &= -x + (2 - 3x^2 +1) -3(x + 1) \\\\\n",
    "&= -x + 2 - 3x^2 +1 -3(x + 1) && \\text{je vois 2 opérations prioritaires, je peux commencer par celle que je veux, mais je préfère la faire dans l'ordre, donc j'enlève les parenthèses de $(2 - 3x^2 +1)$, je conserve les signes puisque qu'on ne multiplie pas par un nombre négatif (ici il n'y a rien devant donc c'est comme si c'était $1 \\times (2 - 3x^2 +1)$ } \\\\\n",
    "&= -x + 2 - 3x^2 +1 -3x - 3 && \\text{deuxième opération prioritaire $-3 \\times (x + 1)$, c'est une multiplication par un nombre négatif donc on inverse les signes en multipliant par 3} \\\\\n",
    "&= -3x^2 -x - 3x +2 + 1 - 3 && \\text{plus d'opération prioritaire, donc je commence à regrouper les objets entre eux pour simplifier}\\\\\n",
    "&= -3x^2 -4x + 0 && \\text{j'ai rajouté + 0 à la fin pour ne pas te perdre, mais on ne le garde pas pour simplifier au max}\\\\\n",
    "&= -3x^2 -4x\\\\\n",
    "\\end{align*}\n",
    "</details>\n"
   ]
  },
  {
   "cell_type": "markdown",
   "id": "5725d981-d6ca-4679-ac60-aecb0dadc5a2",
   "metadata": {},
   "source": [
    "<details>\n",
    "<summary>Correction exercice 2 B(x)</summary>\n",
    "\\begin{align*}    \n",
    "B(x) &= -2x^2 - (2x + 3 + 8x^2) + 1 \\\\\n",
    "&= -2x^2 - 2x -3 -8x^2 + 1 && \\text{Je ne peux rien simplifier dans la parenthèse, donc je l'enlève afin de pouvoir regrouper avec le reste, je fais attention au signe devant} \\\\\n",
    "&= -2x^2 -8x^2 -2x -3 + 1 && \\text{je regroupe les objets entre eux, en conservant le signe} \\\\\n",
    "&= -10x^2 -2x -2\n",
    "\\end{align*}\n",
    "</details>\n"
   ]
  },
  {
   "cell_type": "markdown",
   "id": "225244c8-6403-4c92-9326-46158de2a8a5",
   "metadata": {},
   "source": [
    "<details>\n",
    "Pour l'exercice Bonus, il y a 2 solutions possibles, libre à toi de choisir la solution que tu préfère (je pense que la solution 1 t'embrouillera moins)\n",
    "<summary>Correction du bonus de l'exercice 2 f(x) solution 1</summary>\n",
    "\\begin{align*}    \n",
    "f(x) &= -3 - 2[ (2x + 1) - (x^2 - 1) ]\\\\\n",
    "&= -3 - 2[2x + 1 -x^2 + 1] && \\text{première parenthèse, pas besoin d'inverser les signe, car devant, c'est positif, la seconde, j'inverse les signes} \\\\\n",
    "&= -3 - 2[ -x^2 + 2x + 1 + 1] && \\text{je regroupe dans les crochets} \\\\\n",
    "&= -3 - 2[ -x^2 + 2x + 2] &&  \\text{je simplifie dans les crochets} \\\\\n",
    "&= -3 + 2x^2 - 4x - 4 &&  \\text{je multitplie $-2$ au contenu des crochets, c'est un chiffre négatif, je fais bien attention d'inverser les signes} \\\\\n",
    "&= 2x^2 - 4x - 4 -3 && \\text{je regroup} \\\\\n",
    "&= 2x^2 -4x - 7 && \\text{je simplifie} \\\\\n",
    "\\end{align*}\n",
    "</details>\n"
   ]
  },
  {
   "cell_type": "markdown",
   "id": "d1f2ed5a-5062-49b8-a9a6-02214f368497",
   "metadata": {},
   "source": [
    "<details>\n",
    "<summary>Correction du bonus de l'exercice 2 f(x) solution 2</summary>\n",
    "\\begin{align*}    \n",
    "f(x) &= -3 - 2[ (2x + 1) - (x^2 - 1) ]\\\\\n",
    "&= -3 - 2(2x + 1) + 2(x^2 - 1) && \\text{je décide d'ouvrir les crochets, mais dans ce cas, il faut multiplier $-2$ aux 2 blocs $(2x+1)$ et $-(x^2 -1)$ je fais attention aux signes} \\\\\n",
    "&= -3 - 4x -2 + 2(x^2 - 1) && \\text{je développe en suivant les opérations prioritaires, pour ouvrir les parenthèses, je dois multiplier les éléments à l'intérieur par le chiffre devant, car il est négatif} \\\\\n",
    "&= -3 - 4x -2 + 2x^2 - 2 && \\text{je développe en suivant les opérations prioritaires, pour ouvrir les parenthèses, je dois multiplier les éléments à l'intérieur par le chiffre devant qui est positif, donc on conserve les signes} \\\\\n",
    "&= -2x^2 - 4x -2 -3 -2 && \\text{je regroupe} \\\\\n",
    "&= 2x^2 - 4x -7 && \\text{je simplifie} \\\\\n",
    "\\end{align*}\n",
    "</details>\n"
   ]
  },
  {
   "cell_type": "markdown",
   "id": "c875af4b-392f-4c64-9b0d-7266c5036ee3",
   "metadata": {},
   "source": [
    "### Exercice 3 - 30/08/2024\n",
    "\\begin{align*}\n",
    "A(x) &= -3x(x + 2) - 2(x+2)\\\\\n",
    "B(x) &= -x[2x + 2 - (3x-4)] \\\\\n",
    "\\end{align*}\n",
    "\n",
    "Bonus : \\\n",
    "\\begin{align*}\n",
    "f(x) = (2x+1)^2\n",
    "\\end{align*}"
   ]
  },
  {
   "cell_type": "markdown",
   "id": "50a319a8-446d-44d7-901f-2e744e28529f",
   "metadata": {},
   "source": [
    "### Exercice 4 - 11/09/2024\n",
    "\\begin{align*}\n",
    "A(x) &= -3x(x + 2) - 2(x+2)\\\\\n",
    "B(x) &= -x[2x + 2 - (3x-4)] \\\\\n",
    "\\end{align*}\n",
    "\n",
    "Bonus : \\\n",
    "\\begin{align*}\n",
    "f(x) = (2x+1)^2\n",
    "\\end{align*}"
   ]
  },
  {
   "cell_type": "markdown",
   "id": "0b08b8ca-2637-4791-b43a-62380678c5ce",
   "metadata": {},
   "source": [
    "### Exercice 5 - 14/09/2024\n",
    "\\begin{align*}\n",
    "A(x) &= -(x + 2) - x(x+1)\\\\\n",
    "B(x) &= -x[2x - 2 - (-2x-2)] \\\\\n",
    "C(x) &= -[2x - 2 - (-2x^2-2)] \\\\\n",
    "\\end{align*}\n",
    "\n",
    "Bonus : \\\n",
    "\\begin{align*}\n",
    "f(x) = (-x-1)^2\n",
    "\\end{align*}"
   ]
  },
  {
   "cell_type": "code",
   "execution_count": null,
   "id": "f15be1f3-561c-4f1c-a6ed-aaa08e378441",
   "metadata": {},
   "outputs": [],
   "source": []
  }
 ],
 "metadata": {
  "kernelspec": {
   "display_name": "Python 3 (ipykernel)",
   "language": "python",
   "name": "python3"
  },
  "language_info": {
   "codemirror_mode": {
    "name": "ipython",
    "version": 3
   },
   "file_extension": ".py",
   "mimetype": "text/x-python",
   "name": "python",
   "nbconvert_exporter": "python",
   "pygments_lexer": "ipython3",
   "version": "3.12.5"
  }
 },
 "nbformat": 4,
 "nbformat_minor": 5
}
